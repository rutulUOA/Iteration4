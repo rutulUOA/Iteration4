{
 "cells": [
  {
   "cell_type": "code",
   "execution_count": 1,
   "metadata": {},
   "outputs": [],
   "source": [
    "import findspark\n",
    "findspark.init('/home/ubuntu/spark-2.1.1-bin-hadoop2.7')\n",
    "import pyspark\n",
    "from pyspark.sql import SparkSession\n",
    "spark = SparkSession.builder.appName('basics').getOrCreate()"
   ]
  },
  {
   "cell_type": "code",
   "execution_count": 2,
   "metadata": {},
   "outputs": [],
   "source": [
    "df = spark.read.csv('./dataset_CrimeRate.csv',inferSchema=True,header=True)"
   ]
  },
  {
   "cell_type": "code",
   "execution_count": null,
   "metadata": {},
   "outputs": [],
   "source": []
  },
  {
   "cell_type": "code",
   "execution_count": null,
   "metadata": {},
   "outputs": [],
   "source": []
  },
  {
   "cell_type": "code",
   "execution_count": 3,
   "metadata": {},
   "outputs": [
    {
     "data": {
      "text/plain": [
       "['Year',\n",
       " 'Month',\n",
       " 'Population',\n",
       " 'New Immgirants',\n",
       " 'Unemployment rate',\n",
       " 'Total Unemployments',\n",
       " 'Police rate per 100000',\n",
       " 'Total Number Of Police ',\n",
       " 'Average age',\n",
       " 'Average Income',\n",
       " 'Is Natural Calamity Affected',\n",
       " 'Is suffering Draught',\n",
       " 'Is BJP Government',\n",
       " 'Crime rate',\n",
       " 'Toal Crimes']"
      ]
     },
     "execution_count": 3,
     "metadata": {},
     "output_type": "execute_result"
    }
   ],
   "source": [
    "df.columns"
   ]
  },
  {
   "cell_type": "code",
   "execution_count": 4,
   "metadata": {},
   "outputs": [
    {
     "data": {
      "text/plain": [
       "-0.807565306528001"
      ]
     },
     "execution_count": 4,
     "metadata": {},
     "output_type": "execute_result"
    }
   ],
   "source": [
    "df.corr('Year','Crime rate')"
   ]
  },
  {
   "cell_type": "code",
   "execution_count": 5,
   "metadata": {},
   "outputs": [
    {
     "data": {
      "text/plain": [
       "-0.8013200874496074"
      ]
     },
     "execution_count": 5,
     "metadata": {},
     "output_type": "execute_result"
    }
   ],
   "source": [
    "df.corr('Population','Crime rate')"
   ]
  },
  {
   "cell_type": "code",
   "execution_count": 6,
   "metadata": {},
   "outputs": [
    {
     "data": {
      "text/plain": [
       "-0.8066518235701119"
      ]
     },
     "execution_count": 6,
     "metadata": {},
     "output_type": "execute_result"
    }
   ],
   "source": [
    "df.corr('New Immgirants','Crime rate')"
   ]
  },
  {
   "cell_type": "code",
   "execution_count": 7,
   "metadata": {},
   "outputs": [
    {
     "data": {
      "text/plain": [
       "0.012024125882520626"
      ]
     },
     "execution_count": 7,
     "metadata": {},
     "output_type": "execute_result"
    }
   ],
   "source": [
    "df.corr('Unemployment rate','Crime rate')"
   ]
  },
  {
   "cell_type": "code",
   "execution_count": 8,
   "metadata": {},
   "outputs": [
    {
     "data": {
      "text/plain": [
       "-0.5513385464958418"
      ]
     },
     "execution_count": 8,
     "metadata": {},
     "output_type": "execute_result"
    }
   ],
   "source": [
    "df.corr('Total Unemployments','Crime rate')"
   ]
  },
  {
   "cell_type": "code",
   "execution_count": 9,
   "metadata": {},
   "outputs": [
    {
     "data": {
      "text/plain": [
       "-0.5059523643200514"
      ]
     },
     "execution_count": 9,
     "metadata": {},
     "output_type": "execute_result"
    }
   ],
   "source": [
    "df.corr('Police rate per 100000','Crime rate')"
   ]
  },
  {
   "cell_type": "code",
   "execution_count": 10,
   "metadata": {},
   "outputs": [
    {
     "data": {
      "text/plain": [
       "-0.8255926349250124"
      ]
     },
     "execution_count": 10,
     "metadata": {},
     "output_type": "execute_result"
    }
   ],
   "source": [
    "df.corr('Average age','Crime rate')"
   ]
  },
  {
   "cell_type": "code",
   "execution_count": 11,
   "metadata": {},
   "outputs": [
    {
     "data": {
      "text/plain": [
       "-0.8066535862137316"
      ]
     },
     "execution_count": 11,
     "metadata": {},
     "output_type": "execute_result"
    }
   ],
   "source": [
    "df.corr('Average Income','Crime rate')"
   ]
  },
  {
   "cell_type": "code",
   "execution_count": 12,
   "metadata": {},
   "outputs": [
    {
     "name": "stdout",
     "output_type": "stream",
     "text": [
      "+----+---------+----------+--------------+-----------------+-------------------+----------------------+-----------------------+-----------+--------------+----------------------------+--------------------+-----------------+----------+-----------+\n",
      "|Year|    Month|Population|New Immgirants|Unemployment rate|Total Unemployments|Police rate per 100000|Total Number Of Police |Average age|Average Income|Is Natural Calamity Affected|Is suffering Draught|Is BJP Government|Crime rate|Toal Crimes|\n",
      "+----+---------+----------+--------------+-----------------+-------------------+----------------------+-----------------------+-----------+--------------+----------------------------+--------------------+-----------------+----------+-----------+\n",
      "|1990|  January| 873277799|        512686|             2.11|           18426161|                0.0076|                 663691|       21.1|          4256|                          NO|                 YES|               NO|      4.14|      36153|\n",
      "|1990| February| 873277799|        512956|             2.12|           18426161|                0.0076|                 663691|       21.1|          4260|                         YES|                 YES|               NO|     4.145|      36197|\n",
      "|1990|    March| 873277799|        513226|             2.13|           18513489|                0.0076|                 663691|       21.1|          4264|                          NO|                 YES|               NO|      4.15|      36241|\n",
      "|1990|    April| 873277799|        513496|             2.14|           18600817|                0.0076|                 663691|       21.1|          4268|                          NO|                  NO|               NO|     4.155|      36284|\n",
      "|1990|      May| 873277799|        513766|             2.15|           18688144|                0.0076|                 663691|       21.1|          4272|                          NO|                 YES|               NO|      4.16|      36328|\n",
      "|1990|     June| 873277799|        514036|             2.16|           18775472|                0.0076|                 663691|       21.1|          4276|                          NO|                  NO|               NO|     4.165|      36372|\n",
      "|1990|     July| 873277799|        514306|             2.17|           18862800|                0.0076|                 663691|       21.1|          4280|                         YES|                  NO|               NO|      4.17|      36415|\n",
      "|1990|   August| 873277799|        514576|             2.18|           18950128|                0.0076|                 663691|       21.1|          4284|                          NO|                 YES|               NO|     4.175|      36459|\n",
      "|1990|September| 873277799|        514846|             2.19|           19037456|                0.0076|                 663691|       21.1|          4288|                          NO|                 YES|               NO|      4.18|      36503|\n",
      "|1990|  October| 873277799|        515116|              2.2|           19124783|                0.0076|                 663691|       21.1|          4292|                         YES|                 YES|               NO|     4.185|      36546|\n",
      "|1990| November| 873277799|        515386|             2.21|           19212111|                0.0076|                 663691|       21.1|          4296|                         YES|                 YES|               NO|      4.19|      36590|\n",
      "|1990| December| 873277799|        515656|             2.22|           19299439|                0.0076|                 663691|       21.2|          5256|                          NO|                 YES|               NO|     4.195|      36634|\n",
      "|1991|  January| 888123777|        600654|            2.367|           19386767|                0.0076|                 674974|       21.2|          5259|                          NO|                  NO|               NO|       4.2|      37301|\n",
      "|1991| February| 888123777|        612648|             2.37|           21021889|                0.0076|                 674974|       21.2|          5262|                         YES|                 YES|               NO|     4.205|      37345|\n",
      "|1991|    March| 888123777|        624642|            2.373|           21048533|                0.0076|                 674974|       21.2|          5265|                         YES|                  NO|               NO|      4.21|      37390|\n",
      "|1991|    April| 888123777|        636636|            2.376|           21075177|                0.0076|                 674974|       21.2|          5268|                          NO|                  NO|               NO|     4.215|      37434|\n",
      "|1991|      May| 888123777|        648630|            2.379|           21101820|                0.0076|                 674974|       21.2|          5271|                          NO|                 YES|               NO|      4.22|      37478|\n",
      "|1991|     June| 888123777|        660624|            2.382|           21128464|                0.0076|                 674974|       21.2|          5274|                         YES|                 YES|               NO|     4.225|      37523|\n",
      "|1991|     July| 888123777|        672618|            2.385|           21155108|                0.0076|                 674974|       21.2|          5277|                         YES|                 YES|               NO|      4.23|      37567|\n",
      "|1991|   August| 888123777|        684612|            2.388|           21181752|                0.0076|                 674974|       21.2|          5280|                         YES|                 YES|               NO|     4.235|      37612|\n",
      "+----+---------+----------+--------------+-----------------+-------------------+----------------------+-----------------------+-----------+--------------+----------------------------+--------------------+-----------------+----------+-----------+\n",
      "only showing top 20 rows\n",
      "\n"
     ]
    }
   ],
   "source": [
    "df.show()"
   ]
  },
  {
   "cell_type": "code",
   "execution_count": null,
   "metadata": {},
   "outputs": [],
   "source": []
  },
  {
   "cell_type": "code",
   "execution_count": 13,
   "metadata": {},
   "outputs": [
    {
     "name": "stdout",
     "output_type": "stream",
     "text": [
      "+-------+-----------------+---------+--------------------+------------------+-------------------+-------------------+----------------------+-----------------------+------------------+------------------+----------------------------+--------------------+-----------------+------------------+-----------------+\n",
      "|summary|             Year|    Month|          Population|    New Immgirants|  Unemployment rate|Total Unemployments|Police rate per 100000|Total Number Of Police |       Average age|    Average Income|Is Natural Calamity Affected|Is suffering Draught|Is BJP Government|        Crime rate|      Toal Crimes|\n",
      "+-------+-----------------+---------+--------------------+------------------+-------------------+-------------------+----------------------+-----------------------+------------------+------------------+----------------------------+--------------------+-----------------+------------------+-----------------+\n",
      "|  count|              372|      372|                 372|               372|                372|                372|                   372|                    372|               372|               372|                         372|                 372|              372|               372|              372|\n",
      "|   mean|           2005.0|     null| 1.136516118032258E9|2681338.0967741935| 2.6938225806451626| 3.06779445672043E7|  0.010524462365591404|     1199599.6747311829|24.168817204301128|11683.059139784946|                        null|                null|             null|3.9893682795779664|44834.74731182796|\n",
      "| stddev|8.956318072913358|     null|1.5416786540078866E8|1290172.2306156927|0.26953768090833036|  5882185.469900954|  0.002122442899376...|      329577.4063574987|2.1182548120977995| 4268.635657823512|                        null|                null|             null|0.4095747161502728|3803.978424638338|\n",
      "|    min|             1990|    April|           873277799|            512686|               2.11|           18426161|                0.0076|                 663691|              21.1|              4256|                          NO|                  NO|               NO|              3.15|            36153|\n",
      "|    max|             2020|September|          1380004385|           4906500|                3.4|           46920149|                0.0192|                1926000|              28.4|             19046|                         YES|                 YES|              YES|              4.88|            53682|\n",
      "+-------+-----------------+---------+--------------------+------------------+-------------------+-------------------+----------------------+-----------------------+------------------+------------------+----------------------------+--------------------+-----------------+------------------+-----------------+\n",
      "\n"
     ]
    }
   ],
   "source": [
    "df.describe().show()"
   ]
  },
  {
   "cell_type": "code",
   "execution_count": null,
   "metadata": {},
   "outputs": [],
   "source": []
  },
  {
   "cell_type": "code",
   "execution_count": null,
   "metadata": {},
   "outputs": [],
   "source": []
  },
  {
   "cell_type": "code",
   "execution_count": 14,
   "metadata": {},
   "outputs": [
    {
     "name": "stdout",
     "output_type": "stream",
     "text": [
      "+----+---------+----------+--------------+-----------------+-------------------+----------------------+-----------------------+-----------+--------------+----------------------------+--------------------+-----------------+----------+-----------+\n",
      "|Year|    Month|Population|New Immgirants|Unemployment rate|Total Unemployments|Police rate per 100000|Total Number Of Police |Average age|Average Income|Is Natural Calamity Affected|Is suffering Draught|Is BJP Government|Crime rate|Toal Crimes|\n",
      "+----+---------+----------+--------------+-----------------+-------------------+----------------------+-----------------------+-----------+--------------+----------------------------+--------------------+-----------------+----------+-----------+\n",
      "|1990|  January| 873277799|        512686|             2.11|           18426161|                0.0076|                 663691|       21.1|          4256|                          NO|                 YES|               NO|      4.14|      36153|\n",
      "|1990| February| 873277799|        512956|             2.12|           18426161|                0.0076|                 663691|       21.1|          4260|                         YES|                 YES|               NO|     4.145|      36197|\n",
      "|1990|    March| 873277799|        513226|             2.13|           18513489|                0.0076|                 663691|       21.1|          4264|                          NO|                 YES|               NO|      4.15|      36241|\n",
      "|1990|    April| 873277799|        513496|             2.14|           18600817|                0.0076|                 663691|       21.1|          4268|                          NO|                  NO|               NO|     4.155|      36284|\n",
      "|1990|      May| 873277799|        513766|             2.15|           18688144|                0.0076|                 663691|       21.1|          4272|                          NO|                 YES|               NO|      4.16|      36328|\n",
      "|1990|     June| 873277799|        514036|             2.16|           18775472|                0.0076|                 663691|       21.1|          4276|                          NO|                  NO|               NO|     4.165|      36372|\n",
      "|1990|     July| 873277799|        514306|             2.17|           18862800|                0.0076|                 663691|       21.1|          4280|                         YES|                  NO|               NO|      4.17|      36415|\n",
      "|1990|   August| 873277799|        514576|             2.18|           18950128|                0.0076|                 663691|       21.1|          4284|                          NO|                 YES|               NO|     4.175|      36459|\n",
      "|1990|September| 873277799|        514846|             2.19|           19037456|                0.0076|                 663691|       21.1|          4288|                          NO|                 YES|               NO|      4.18|      36503|\n",
      "|1990|  October| 873277799|        515116|              2.2|           19124783|                0.0076|                 663691|       21.1|          4292|                         YES|                 YES|               NO|     4.185|      36546|\n",
      "|1990| November| 873277799|        515386|             2.21|           19212111|                0.0076|                 663691|       21.1|          4296|                         YES|                 YES|               NO|      4.19|      36590|\n",
      "|1990| December| 873277799|        515656|             2.22|           19299439|                0.0076|                 663691|       21.2|          5256|                          NO|                 YES|               NO|     4.195|      36634|\n",
      "|1991|  January| 888123777|        600654|            2.367|           19386767|                0.0076|                 674974|       21.2|          5259|                          NO|                  NO|               NO|       4.2|      37301|\n",
      "|1991| February| 888123777|        612648|             2.37|           21021889|                0.0076|                 674974|       21.2|          5262|                         YES|                 YES|               NO|     4.205|      37345|\n",
      "|1991|    March| 888123777|        624642|            2.373|           21048533|                0.0076|                 674974|       21.2|          5265|                         YES|                  NO|               NO|      4.21|      37390|\n",
      "|1991|    April| 888123777|        636636|            2.376|           21075177|                0.0076|                 674974|       21.2|          5268|                          NO|                  NO|               NO|     4.215|      37434|\n",
      "|1991|      May| 888123777|        648630|            2.379|           21101820|                0.0076|                 674974|       21.2|          5271|                          NO|                 YES|               NO|      4.22|      37478|\n",
      "|1991|     June| 888123777|        660624|            2.382|           21128464|                0.0076|                 674974|       21.2|          5274|                         YES|                 YES|               NO|     4.225|      37523|\n",
      "|1991|     July| 888123777|        672618|            2.385|           21155108|                0.0076|                 674974|       21.2|          5277|                         YES|                 YES|               NO|      4.23|      37567|\n",
      "|1991|   August| 888123777|        684612|            2.388|           21181752|                0.0076|                 674974|       21.2|          5280|                         YES|                 YES|               NO|     4.235|      37612|\n",
      "+----+---------+----------+--------------+-----------------+-------------------+----------------------+-----------------------+-----------+--------------+----------------------------+--------------------+-----------------+----------+-----------+\n",
      "only showing top 20 rows\n",
      "\n"
     ]
    }
   ],
   "source": [
    "df.show()"
   ]
  },
  {
   "cell_type": "code",
   "execution_count": 15,
   "metadata": {},
   "outputs": [
    {
     "name": "stdout",
     "output_type": "stream",
     "text": [
      "+----+---------+----------+--------------+-----------------+-------------------+----------------------+-----------------------+-----------+--------------+----------------------------+--------------------+-----------------+----------+-----------+\n",
      "|Year|    Month|Population|New Immgirants|Unemployment rate|Total Unemployments|Police rate per 100000|Total Number Of Police |Average age|Average Income|Is Natural Calamity Affected|Is suffering Draught|Is BJP Government|Crime rate|Toal Crimes|\n",
      "+----+---------+----------+--------------+-----------------+-------------------+----------------------+-----------------------+-----------+--------------+----------------------------+--------------------+-----------------+----------+-----------+\n",
      "|1990|  January| 873277799|        512686|             2.11|           18426161|                0.0076|                 663691|       21.1|          4256|                          NO|                 YES|               NO|      4.14|      36153|\n",
      "|1990| February| 873277799|        512956|             2.12|           18426161|                0.0076|                 663691|       21.1|          4260|                         YES|                 YES|               NO|     4.145|      36197|\n",
      "|1990|    March| 873277799|        513226|             2.13|           18513489|                0.0076|                 663691|       21.1|          4264|                          NO|                 YES|               NO|      4.15|      36241|\n",
      "|1990|    April| 873277799|        513496|             2.14|           18600817|                0.0076|                 663691|       21.1|          4268|                          NO|                  NO|               NO|     4.155|      36284|\n",
      "|1990|      May| 873277799|        513766|             2.15|           18688144|                0.0076|                 663691|       21.1|          4272|                          NO|                 YES|               NO|      4.16|      36328|\n",
      "|1990|     June| 873277799|        514036|             2.16|           18775472|                0.0076|                 663691|       21.1|          4276|                          NO|                  NO|               NO|     4.165|      36372|\n",
      "|1990|     July| 873277799|        514306|             2.17|           18862800|                0.0076|                 663691|       21.1|          4280|                         YES|                  NO|               NO|      4.17|      36415|\n",
      "|1990|   August| 873277799|        514576|             2.18|           18950128|                0.0076|                 663691|       21.1|          4284|                          NO|                 YES|               NO|     4.175|      36459|\n",
      "|1990|September| 873277799|        514846|             2.19|           19037456|                0.0076|                 663691|       21.1|          4288|                          NO|                 YES|               NO|      4.18|      36503|\n",
      "|1990|  October| 873277799|        515116|              2.2|           19124783|                0.0076|                 663691|       21.1|          4292|                         YES|                 YES|               NO|     4.185|      36546|\n",
      "|1990| November| 873277799|        515386|             2.21|           19212111|                0.0076|                 663691|       21.1|          4296|                         YES|                 YES|               NO|      4.19|      36590|\n",
      "|1990| December| 873277799|        515656|             2.22|           19299439|                0.0076|                 663691|       21.2|          5256|                          NO|                 YES|               NO|     4.195|      36634|\n",
      "|1991|  January| 888123777|        600654|            2.367|           19386767|                0.0076|                 674974|       21.2|          5259|                          NO|                  NO|               NO|       4.2|      37301|\n",
      "|1991| February| 888123777|        612648|             2.37|           21021889|                0.0076|                 674974|       21.2|          5262|                         YES|                 YES|               NO|     4.205|      37345|\n",
      "|1991|    March| 888123777|        624642|            2.373|           21048533|                0.0076|                 674974|       21.2|          5265|                         YES|                  NO|               NO|      4.21|      37390|\n",
      "|1991|    April| 888123777|        636636|            2.376|           21075177|                0.0076|                 674974|       21.2|          5268|                          NO|                  NO|               NO|     4.215|      37434|\n",
      "|1991|      May| 888123777|        648630|            2.379|           21101820|                0.0076|                 674974|       21.2|          5271|                          NO|                 YES|               NO|      4.22|      37478|\n",
      "|1991|     June| 888123777|        660624|            2.382|           21128464|                0.0076|                 674974|       21.2|          5274|                         YES|                 YES|               NO|     4.225|      37523|\n",
      "|1991|     July| 888123777|        672618|            2.385|           21155108|                0.0076|                 674974|       21.2|          5277|                         YES|                 YES|               NO|      4.23|      37567|\n",
      "|1991|   August| 888123777|        684612|            2.388|           21181752|                0.0076|                 674974|       21.2|          5280|                         YES|                 YES|               NO|     4.235|      37612|\n",
      "+----+---------+----------+--------------+-----------------+-------------------+----------------------+-----------------------+-----------+--------------+----------------------------+--------------------+-----------------+----------+-----------+\n",
      "only showing top 20 rows\n",
      "\n"
     ]
    }
   ],
   "source": [
    "df.na.drop().show()"
   ]
  },
  {
   "cell_type": "code",
   "execution_count": 16,
   "metadata": {},
   "outputs": [
    {
     "data": {
      "text/plain": [
       "DataFrame[Year: int, Month: string, Population: int, New Immgirants: int, Unemployment rate: double, Total Unemployments: int, Police rate per 100000: double, Total Number Of Police : int, Average age: double, Average Income: int, Is Natural Calamity Affected: string, Is suffering Draught: string, Is BJP Government: string, Crime rate: double, Toal Crimes: int]"
      ]
     },
     "execution_count": 16,
     "metadata": {},
     "output_type": "execute_result"
    }
   ],
   "source": [
    "from pyspark.sql import functions as psf\n",
    "df.filter(psf.col(\"Crime rate\").isNotNull())"
   ]
  },
  {
   "cell_type": "code",
   "execution_count": null,
   "metadata": {},
   "outputs": [],
   "source": []
  },
  {
   "cell_type": "code",
   "execution_count": null,
   "metadata": {},
   "outputs": [],
   "source": []
  },
  {
   "cell_type": "code",
   "execution_count": 17,
   "metadata": {},
   "outputs": [
    {
     "data": {
      "text/plain": [
       "372"
      ]
     },
     "execution_count": 17,
     "metadata": {},
     "output_type": "execute_result"
    }
   ],
   "source": [
    "df.na.drop().count()"
   ]
  },
  {
   "cell_type": "code",
   "execution_count": 18,
   "metadata": {},
   "outputs": [
    {
     "data": {
      "text/plain": [
       "372"
      ]
     },
     "execution_count": 18,
     "metadata": {},
     "output_type": "execute_result"
    }
   ],
   "source": [
    "df.count()"
   ]
  },
  {
   "cell_type": "code",
   "execution_count": 19,
   "metadata": {},
   "outputs": [
    {
     "name": "stdout",
     "output_type": "stream",
     "text": [
      "+----+\n",
      "|Year|\n",
      "+----+\n",
      "|1990|\n",
      "|1990|\n",
      "|1990|\n",
      "|1990|\n",
      "|1990|\n",
      "|1990|\n",
      "|1990|\n",
      "|1990|\n",
      "|1990|\n",
      "|1990|\n",
      "|1990|\n",
      "|1990|\n",
      "|1991|\n",
      "|1991|\n",
      "|1991|\n",
      "|1991|\n",
      "|1991|\n",
      "|1991|\n",
      "|1991|\n",
      "|1991|\n",
      "+----+\n",
      "only showing top 20 rows\n",
      "\n"
     ]
    }
   ],
   "source": [
    "from pyspark.sql.functions import isnan, when, count, col\n",
    "df.select([count(when(isnan(c), c)).alias(c) for c in df.columns])\n",
    "df.select([c for c in df.columns if c in ['Year','_4','_5']]).show()"
   ]
  },
  {
   "cell_type": "code",
   "execution_count": 20,
   "metadata": {},
   "outputs": [
    {
     "data": {
      "text/plain": [
       "['Year',\n",
       " 'Month',\n",
       " 'Population',\n",
       " 'New Immgirants',\n",
       " 'Unemployment rate',\n",
       " 'Total Unemployments',\n",
       " 'Police rate per 100000',\n",
       " 'Total Number Of Police ',\n",
       " 'Average age',\n",
       " 'Average Income',\n",
       " 'Is Natural Calamity Affected',\n",
       " 'Is suffering Draught',\n",
       " 'Is BJP Government',\n",
       " 'Crime rate',\n",
       " 'Toal Crimes']"
      ]
     },
     "execution_count": 20,
     "metadata": {},
     "output_type": "execute_result"
    }
   ],
   "source": [
    "df.columns"
   ]
  },
  {
   "cell_type": "code",
   "execution_count": 21,
   "metadata": {},
   "outputs": [
    {
     "name": "stdout",
     "output_type": "stream",
     "text": [
      "+----+----------+--------------+-----------+--------------+\n",
      "|Year|Population|New Immgirants|Average age|Average Income|\n",
      "+----+----------+--------------+-----------+--------------+\n",
      "|   0|         0|             0|          0|             0|\n",
      "+----+----------+--------------+-----------+--------------+\n",
      "\n"
     ]
    }
   ],
   "source": [
    "from pyspark.sql.functions import isnan, when, count, col\n",
    "df.select([count(when(isnan(c) | col(c).isNull(), c)).alias(c) for c in df.columns]).select([c for c in df.columns if c in ['Year','Population','New Immgirants','Average age','Average Income']]).show()"
   ]
  },
  {
   "cell_type": "code",
   "execution_count": 22,
   "metadata": {},
   "outputs": [
    {
     "name": "stdout",
     "output_type": "stream",
     "text": [
      "+-----------------+--------------+----------------------------+--------------------+-----------------+\n",
      "|Unemployment rate|Average Income|Is Natural Calamity Affected|Is suffering Draught|Is BJP Government|\n",
      "+-----------------+--------------+----------------------------+--------------------+-----------------+\n",
      "|                0|             0|                           0|                   0|                0|\n",
      "+-----------------+--------------+----------------------------+--------------------+-----------------+\n",
      "\n"
     ]
    }
   ],
   "source": [
    "from pyspark.sql.functions import isnan, when, count, col\n",
    "df.select([count(when(isnan(c) | col(c).isNull(), c)).alias(c) for c in df.columns]).select([c for c in df.columns if c in ['Is suffering Draught','Is Natural Calamity Affected','Is BJP Government','Unemployment rate','Average Income']]).show()"
   ]
  },
  {
   "cell_type": "code",
   "execution_count": 23,
   "metadata": {},
   "outputs": [],
   "source": [
    "df = spark.read.csv('./dataset_CrimeRate.csv',inferSchema=True,header=True)"
   ]
  },
  {
   "cell_type": "code",
   "execution_count": 24,
   "metadata": {},
   "outputs": [
    {
     "name": "stdout",
     "output_type": "stream",
     "text": [
      "+-------------------+----------------------------+--------------------+----------+-----------+\n",
      "|Total Unemployments|Is Natural Calamity Affected|Is suffering Draught|Crime rate|Toal Crimes|\n",
      "+-------------------+----------------------------+--------------------+----------+-----------+\n",
      "|                  0|                           0|                   0|         0|          0|\n",
      "+-------------------+----------------------------+--------------------+----------+-----------+\n",
      "\n"
     ]
    }
   ],
   "source": [
    "from pyspark.sql.functions import isnan, when, count, col\n",
    "df.select([count(when(isnan(c) | col(c).isNull(), c)).alias(c) for c in df.columns]).select([c for c in df.columns if c in ['Is suffering Draught','Is Natural Calamity Affected','Total Unemployments','Crime rate','Toal Crimes']]).show()"
   ]
  },
  {
   "cell_type": "code",
   "execution_count": 25,
   "metadata": {},
   "outputs": [
    {
     "data": {
      "text/plain": [
       "372"
      ]
     },
     "execution_count": 25,
     "metadata": {},
     "output_type": "execute_result"
    }
   ],
   "source": [
    "df.count()"
   ]
  },
  {
   "cell_type": "code",
   "execution_count": 26,
   "metadata": {},
   "outputs": [
    {
     "name": "stdout",
     "output_type": "stream",
     "text": [
      "+----+-----+----------+--------------+-----------------+-------------------+----------------------+-----------------------+-----------+--------------+----------------------------+--------------------+-----------------+----------+-----------+\n",
      "|Year|Month|Population|New Immgirants|Unemployment rate|Total Unemployments|Police rate per 100000|Total Number Of Police |Average age|Average Income|Is Natural Calamity Affected|Is suffering Draught|Is BJP Government|Crime rate|Toal Crimes|\n",
      "+----+-----+----------+--------------+-----------------+-------------------+----------------------+-----------------------+-----------+--------------+----------------------------+--------------------+-----------------+----------+-----------+\n",
      "|   0|    0|         0|             0|                0|                  0|                     0|                      0|          0|             0|                           0|                   0|                0|         0|          0|\n",
      "+----+-----+----------+--------------+-----------------+-------------------+----------------------+-----------------------+-----------+--------------+----------------------------+--------------------+-----------------+----------+-----------+\n",
      "\n"
     ]
    }
   ],
   "source": [
    "from pyspark.sql.functions import isnan, when, count, col\n",
    "df.select([count(when(isnan(c) | col(c).isNull(), c)).alias(c) for c in df.columns]).show()"
   ]
  },
  {
   "cell_type": "code",
   "execution_count": null,
   "metadata": {},
   "outputs": [],
   "source": []
  },
  {
   "cell_type": "code",
   "execution_count": 28,
   "metadata": {},
   "outputs": [],
   "source": [
    "df = df.withColumn('Total Police Derived', col(\"Population\") * col(\"Police rate per 100000\") / 10)"
   ]
  },
  {
   "cell_type": "code",
   "execution_count": 29,
   "metadata": {},
   "outputs": [
    {
     "name": "stdout",
     "output_type": "stream",
     "text": [
      "+--------------------------------------+\n",
      "|format_number(Total Police Derived, 2)|\n",
      "+--------------------------------------+\n",
      "|                            663,691.13|\n",
      "|                            663,691.13|\n",
      "|                            663,691.13|\n",
      "|                            663,691.13|\n",
      "|                            663,691.13|\n",
      "|                            663,691.13|\n",
      "|                            663,691.13|\n",
      "|                            663,691.13|\n",
      "|                            663,691.13|\n",
      "|                            663,691.13|\n",
      "|                            663,691.13|\n",
      "|                            663,691.13|\n",
      "|                            674,974.07|\n",
      "|                            674,974.07|\n",
      "|                            674,974.07|\n",
      "|                            674,974.07|\n",
      "|                            674,974.07|\n",
      "|                            674,974.07|\n",
      "|                            674,974.07|\n",
      "|                            674,974.07|\n",
      "+--------------------------------------+\n",
      "only showing top 20 rows\n",
      "\n"
     ]
    }
   ],
   "source": [
    "#df.withColumn('Total Police Derived', col(\"Population\") * col(\"Police rate per 100000\") / 10)\n",
    "from pyspark.sql.functions import dayofmonth,month,hour,year,format_number\n",
    "df.select(format_number('Total Police Derived',2)).show()"
   ]
  },
  {
   "cell_type": "code",
   "execution_count": 30,
   "metadata": {},
   "outputs": [
    {
     "name": "stdout",
     "output_type": "stream",
     "text": [
      "+--------------------------------------------+\n",
      "|format_number(Total Unemployment Derived, 2)|\n",
      "+--------------------------------------------+\n",
      "|                              184,261,615.59|\n",
      "|                              185,134,893.39|\n",
      "|                              186,008,171.19|\n",
      "|                              186,881,448.99|\n",
      "|                              187,754,726.78|\n",
      "|                              188,628,004.58|\n",
      "|                              189,501,282.38|\n",
      "|                              190,374,560.18|\n",
      "|                              191,247,837.98|\n",
      "|                              192,121,115.78|\n",
      "|                              192,994,393.58|\n",
      "|                              193,867,671.38|\n",
      "|                              210,218,898.02|\n",
      "|                              210,485,335.15|\n",
      "|                              210,751,772.28|\n",
      "|                              211,018,209.42|\n",
      "|                              211,284,646.55|\n",
      "|                              211,551,083.68|\n",
      "|                              211,817,520.81|\n",
      "|                              212,083,957.95|\n",
      "+--------------------------------------------+\n",
      "only showing top 20 rows\n",
      "\n"
     ]
    }
   ],
   "source": [
    "df = df.withColumn('Total Unemployment Derived', col(\"Population\") * col(\"Unemployment rate\") / 10)\n",
    "from pyspark.sql.functions import dayofmonth,month,hour,year,format_number\n",
    "df.select(format_number('Total Unemployment Derived',2)).show()"
   ]
  },
  {
   "cell_type": "code",
   "execution_count": 31,
   "metadata": {},
   "outputs": [
    {
     "name": "stdout",
     "output_type": "stream",
     "text": [
      "+--------------------------------------+\n",
      "|format_number(Total Crimes Derived, 2)|\n",
      "+--------------------------------------+\n",
      "|                        361,537,008.79|\n",
      "|                        361,973,647.69|\n",
      "|                        362,410,286.59|\n",
      "|                        362,846,925.48|\n",
      "|                        363,283,564.38|\n",
      "|                        363,720,203.28|\n",
      "|                        364,156,842.18|\n",
      "|                        364,593,481.08|\n",
      "|                        365,030,119.98|\n",
      "|                        365,466,758.88|\n",
      "|                        365,903,397.78|\n",
      "|                        366,340,036.68|\n",
      "|                        373,011,986.34|\n",
      "|                        373,456,048.23|\n",
      "|                        373,900,110.12|\n",
      "|                        374,344,172.01|\n",
      "|                        374,788,233.89|\n",
      "|                        375,232,295.78|\n",
      "|                        375,676,357.67|\n",
      "|                        376,120,419.56|\n",
      "+--------------------------------------+\n",
      "only showing top 20 rows\n",
      "\n"
     ]
    }
   ],
   "source": [
    "df = df.withColumn('Total Crimes Derived', col(\"Population\") * col(\"Crime rate\") / 10)\n",
    "from pyspark.sql.functions import dayofmonth,month,hour,year,format_number\n",
    "df.select(format_number('Total Crimes Derived',2)).show()"
   ]
  },
  {
   "cell_type": "code",
   "execution_count": 32,
   "metadata": {},
   "outputs": [],
   "source": [
    "from pyspark.ml.linalg import Vectors\n",
    "from pyspark.ml.feature import VectorAssembler"
   ]
  },
  {
   "cell_type": "code",
   "execution_count": 33,
   "metadata": {},
   "outputs": [
    {
     "data": {
      "text/plain": [
       "['Year',\n",
       " 'Month',\n",
       " 'Population',\n",
       " 'New Immgirants',\n",
       " 'Unemployment rate',\n",
       " 'Total Unemployments',\n",
       " 'Police rate per 100000',\n",
       " 'Total Number Of Police ',\n",
       " 'Average age',\n",
       " 'Average Income',\n",
       " 'Is Natural Calamity Affected',\n",
       " 'Is suffering Draught',\n",
       " 'Is BJP Government',\n",
       " 'Crime rate',\n",
       " 'Toal Crimes',\n",
       " 'Total Police Derived',\n",
       " 'Total Unemployment Derived',\n",
       " 'Total Crimes Derived']"
      ]
     },
     "execution_count": 33,
     "metadata": {},
     "output_type": "execute_result"
    }
   ],
   "source": [
    "df.columns"
   ]
  },
  {
   "cell_type": "code",
   "execution_count": 37,
   "metadata": {},
   "outputs": [],
   "source": [
    "##### DATA MINING USING LINEAR REGRESSION ######"
   ]
  },
  {
   "cell_type": "code",
   "execution_count": 38,
   "metadata": {},
   "outputs": [],
   "source": [
    "assembler = VectorAssembler(\n",
    "    inputCols=['Year',\n",
    " #'Month',\n",
    " 'Population',\n",
    " 'New Immgirants',\n",
    " 'Unemployment rate',\n",
    " 'Total Unemployments',\n",
    " 'Police rate per 100000',\n",
    " 'Total Number Of Police ',\n",
    " 'Average age',\n",
    " 'Average Income',],\n",
    " #'Is Natural Calamity Affected',\n",
    " #'Is suffering Draught',\n",
    " #'Is BJP Government',\n",
    " #'Crime rate',],\n",
    "    outputCol=\"features\")"
   ]
  },
  {
   "cell_type": "code",
   "execution_count": 39,
   "metadata": {},
   "outputs": [],
   "source": [
    "output = assembler.transform(df)"
   ]
  },
  {
   "cell_type": "code",
   "execution_count": 40,
   "metadata": {},
   "outputs": [
    {
     "name": "stdout",
     "output_type": "stream",
     "text": [
      "root\n",
      " |-- Year: integer (nullable = true)\n",
      " |-- Month: string (nullable = true)\n",
      " |-- Population: integer (nullable = true)\n",
      " |-- New Immgirants: integer (nullable = true)\n",
      " |-- Unemployment rate: double (nullable = true)\n",
      " |-- Total Unemployments: integer (nullable = true)\n",
      " |-- Police rate per 100000: double (nullable = true)\n",
      " |-- Total Number Of Police : integer (nullable = true)\n",
      " |-- Average age: double (nullable = true)\n",
      " |-- Average Income: integer (nullable = true)\n",
      " |-- Is Natural Calamity Affected: string (nullable = true)\n",
      " |-- Is suffering Draught: string (nullable = true)\n",
      " |-- Is BJP Government: string (nullable = true)\n",
      " |-- Crime rate: double (nullable = true)\n",
      " |-- Toal Crimes: integer (nullable = true)\n",
      " |-- Total Police Derived: double (nullable = true)\n",
      " |-- Total Unemployment Derived: double (nullable = true)\n",
      " |-- Total Crimes Derived: double (nullable = true)\n",
      " |-- features: vector (nullable = true)\n",
      "\n"
     ]
    },
    {
     "data": {
      "text/plain": [
       "[Row(Year=1990, Month='January', Population=873277799, New Immgirants=512686, Unemployment rate=2.11, Total Unemployments=18426161, Police rate per 100000=0.0076, Total Number Of Police =663691, Average age=21.1, Average Income=4256, Is Natural Calamity Affected='NO', Is suffering Draught='YES', Is BJP Government='NO', Crime rate=4.14, Toal Crimes=36153, Total Police Derived=663691.1272400001, Total Unemployment Derived=184261615.589, Total Crimes Derived=361537008.78599995, features=DenseVector([1990.0, 873277799.0, 512686.0, 2.11, 18426161.0, 0.0076, 663691.0, 21.1, 4256.0]))]"
      ]
     },
     "execution_count": 40,
     "metadata": {},
     "output_type": "execute_result"
    }
   ],
   "source": [
    "output.printSchema()\n",
    "output.head(1)"
   ]
  },
  {
   "cell_type": "code",
   "execution_count": 41,
   "metadata": {},
   "outputs": [
    {
     "name": "stdout",
     "output_type": "stream",
     "text": [
      "+--------------------+----------+\n",
      "|            features|Crime rate|\n",
      "+--------------------+----------+\n",
      "|[1990.0,8.7327779...|      4.14|\n",
      "|[1990.0,8.7327779...|     4.145|\n",
      "|[1990.0,8.7327779...|      4.15|\n",
      "|[1990.0,8.7327779...|     4.155|\n",
      "|[1990.0,8.7327779...|      4.16|\n",
      "|[1990.0,8.7327779...|     4.165|\n",
      "|[1990.0,8.7327779...|      4.17|\n",
      "|[1990.0,8.7327779...|     4.175|\n",
      "|[1990.0,8.7327779...|      4.18|\n",
      "|[1990.0,8.7327779...|     4.185|\n",
      "|[1990.0,8.7327779...|      4.19|\n",
      "|[1990.0,8.7327779...|     4.195|\n",
      "|[1991.0,8.8812377...|       4.2|\n",
      "|[1991.0,8.8812377...|     4.205|\n",
      "|[1991.0,8.8812377...|      4.21|\n",
      "|[1991.0,8.8812377...|     4.215|\n",
      "|[1991.0,8.8812377...|      4.22|\n",
      "|[1991.0,8.8812377...|     4.225|\n",
      "|[1991.0,8.8812377...|      4.23|\n",
      "|[1991.0,8.8812377...|     4.235|\n",
      "+--------------------+----------+\n",
      "only showing top 20 rows\n",
      "\n"
     ]
    }
   ],
   "source": [
    "final_data = output.select(\"features\",'Crime rate')\n",
    "final_data.show()"
   ]
  },
  {
   "cell_type": "code",
   "execution_count": 42,
   "metadata": {},
   "outputs": [],
   "source": [
    "train_data,test_data = final_data.randomSplit([0.7,0.3])"
   ]
  },
  {
   "cell_type": "code",
   "execution_count": 43,
   "metadata": {},
   "outputs": [
    {
     "name": "stdout",
     "output_type": "stream",
     "text": [
      "+-------+------------------+\n",
      "|summary|        Crime rate|\n",
      "+-------+------------------+\n",
      "|  count|               272|\n",
      "|   mean| 3.986244607852948|\n",
      "| stddev|0.4201177955687889|\n",
      "|    min|              3.15|\n",
      "|    max|              4.88|\n",
      "+-------+------------------+\n",
      "\n",
      "+-------+-------------------+\n",
      "|summary|         Crime rate|\n",
      "+-------+-------------------+\n",
      "|  count|                100|\n",
      "|   mean| 3.9978646666699973|\n",
      "| stddev|0.38131478622593884|\n",
      "|    min|               3.15|\n",
      "|    max|               4.88|\n",
      "+-------+-------------------+\n",
      "\n"
     ]
    }
   ],
   "source": [
    "train_data.describe().show()\n",
    "\n",
    "test_data.describe().show()"
   ]
  },
  {
   "cell_type": "code",
   "execution_count": 44,
   "metadata": {},
   "outputs": [],
   "source": [
    "from pyspark.ml.regression import LinearRegression"
   ]
  },
  {
   "cell_type": "code",
   "execution_count": 45,
   "metadata": {},
   "outputs": [],
   "source": [
    "lr = LinearRegression(labelCol='Crime rate')"
   ]
  },
  {
   "cell_type": "code",
   "execution_count": 46,
   "metadata": {},
   "outputs": [],
   "source": [
    "lrModel = lr.fit(train_data)"
   ]
  },
  {
   "cell_type": "code",
   "execution_count": 47,
   "metadata": {},
   "outputs": [
    {
     "name": "stdout",
     "output_type": "stream",
     "text": [
      "Coefficients: [0.015145241382322148,1.4875100482254595e-09,5.712081027621778e-07,0.43548078265546697,-2.8176146740298538e-08,172.69577279159287,-1.301740906445417e-06,-0.4302404756152309,-7.165573312372071e-05] Intercept: -18.920665012257615\n"
     ]
    }
   ],
   "source": [
    "print(\"Coefficients: {} Intercept: {}\".format(lrModel.coefficients,lrModel.intercept))"
   ]
  },
  {
   "cell_type": "code",
   "execution_count": 48,
   "metadata": {},
   "outputs": [],
   "source": [
    "test_results = lrModel.evaluate(test_data)"
   ]
  },
  {
   "cell_type": "code",
   "execution_count": 49,
   "metadata": {},
   "outputs": [
    {
     "name": "stdout",
     "output_type": "stream",
     "text": [
      "+--------------------+\n",
      "|           residuals|\n",
      "+--------------------+\n",
      "|-0.13462719674988932|\n",
      "|-0.12167460308311373|\n",
      "|-0.10872200941633192|\n",
      "|-0.10548385395560178|\n",
      "|-0.07502280560257013|\n",
      "| -0.0837901132962191|\n",
      "|-0.02248922993418745|\n",
      "|-0.02362374258747657|\n",
      "|-0.03043081850722...|\n",
      "| 0.03943915906801454|\n",
      "|0.035199710464015155|\n",
      "|-0.00759691935613...|\n",
      "|0.010052080970186061|\n",
      "|0.010010743917895581|\n",
      "|0.010014884886872188|\n",
      "|0.016016432615113096|\n",
      "| 0.01695993622241332|\n",
      "|0.019933758510542354|\n",
      "|0.020948917850965643|\n",
      "|0.021964077191378273|\n",
      "+--------------------+\n",
      "only showing top 20 rows\n",
      "\n",
      "RSME: 0.15560911244576411\n"
     ]
    }
   ],
   "source": [
    "test_results.residuals.show()\n",
    "\n",
    "print(\"RSME: {}\".format(test_results.rootMeanSquaredError))"
   ]
  },
  {
   "cell_type": "code",
   "execution_count": 50,
   "metadata": {},
   "outputs": [
    {
     "name": "stdout",
     "output_type": "stream",
     "text": [
      "R2: 0.8317838983231534\n"
     ]
    }
   ],
   "source": [
    "print(\"R2: {}\".format(test_results.r2))"
   ]
  },
  {
   "cell_type": "code",
   "execution_count": 51,
   "metadata": {},
   "outputs": [
    {
     "name": "stdout",
     "output_type": "stream",
     "text": [
      "+-------+------------------+\n",
      "|summary|        Crime rate|\n",
      "+-------+------------------+\n",
      "|  count|               372|\n",
      "|   mean|3.9893682795779664|\n",
      "| stddev|0.4095747161502728|\n",
      "|    min|              3.15|\n",
      "|    max|              4.88|\n",
      "+-------+------------------+\n",
      "\n"
     ]
    }
   ],
   "source": [
    "final_data.describe().show()"
   ]
  },
  {
   "cell_type": "code",
   "execution_count": 52,
   "metadata": {},
   "outputs": [],
   "source": [
    "trainingSummary = lrModel.summary"
   ]
  },
  {
   "cell_type": "code",
   "execution_count": 53,
   "metadata": {},
   "outputs": [
    {
     "name": "stdout",
     "output_type": "stream",
     "text": [
      "Deviance Residuals: [-0.318390814603692, 0.5509251922935983]\n",
      "Coefficient Standard Errors: [0.049332207171493156, 1.4054273018162117e-09, 4.894626441950172e-07, 0.2519867490140516, 2.192024527790193e-08, 23.359396652623893, 4.126239961871812e-07, 0.05686216647595161, 0.00013312083977669716, 96.90282748902355]\n",
      "Explained Variance: 0.1441374722425047\n",
      "Features Col: features\n",
      "Label Col: Crime rate\n",
      "Mean Absolute Error: 0.12959340751037413\n",
      "Mean Squared Error: 0.031712596666881365\n",
      "Num Instances: 272\n",
      "Objective History: [0.0]\n",
      "PValues: [0.759083322675159, 0.290846072054487, 0.24426713329023664, 0.08513252242726077, 0.19978975270710198, 1.935118731921648e-12, 0.0017934872973752736, 6.52589093874667e-13, 0.5908436079322907, 0.8453454375511491]\n",
      "Prediction Col: prediction\n",
      "R2: 0.8196611644033778\n",
      "Root Mean Squared Error: 0.17808030959901594\n",
      "TValues: [0.30700514432027876, 1.0584041211545938, 1.1670106177389723, 1.7281892177242348, -1.2853937710589058, 7.392989440598178, -3.1547872117813047, -7.566375013115091, -0.5382758495508234, -0.19525400344381913]\n",
      "Total Iterations: 1\n"
     ]
    }
   ],
   "source": [
    "print(\"Deviance Residuals: \" +str(trainingSummary.devianceResiduals))\n",
    "print(\"Coefficient Standard Errors: \" +str(trainingSummary.coefficientStandardErrors))\n",
    "print(\"Explained Variance: \" +str(trainingSummary.explainedVariance))\n",
    "print(\"Features Col: \" +str(trainingSummary.featuresCol))\n",
    "print(\"Label Col: \" +str(trainingSummary.labelCol))\n",
    "print(\"Mean Absolute Error: \" +str(trainingSummary.meanAbsoluteError))\n",
    "print(\"Mean Squared Error: \" +str(trainingSummary.meanSquaredError))\n",
    "print(\"Num Instances: \" +str(trainingSummary.numInstances))\n",
    "print(\"Objective History: \" +str(trainingSummary.objectiveHistory))\n",
    "print(\"PValues: \" +str(trainingSummary.pValues))\n",
    "print(\"Prediction Col: \" +str(trainingSummary.predictionCol))\n",
    "print(\"R2: \" +str(trainingSummary.r2))\n",
    "print(\"Root Mean Squared Error: \" +str(trainingSummary.rootMeanSquaredError))\n",
    "print(\"TValues: \" +str(trainingSummary.tValues))\n",
    "print(\"Total Iterations: \" +str(trainingSummary.totalIterations))"
   ]
  },
  {
   "cell_type": "code",
   "execution_count": 54,
   "metadata": {},
   "outputs": [],
   "source": [
    "correct_model = lr.fit(train_data)"
   ]
  },
  {
   "cell_type": "code",
   "execution_count": 55,
   "metadata": {},
   "outputs": [],
   "source": [
    "train_results = correct_model.evaluate(train_data)"
   ]
  },
  {
   "cell_type": "code",
   "execution_count": 56,
   "metadata": {},
   "outputs": [
    {
     "name": "stdout",
     "output_type": "stream",
     "text": [
      "+--------------------+----------+------------------+\n",
      "|            features|Crime rate|        prediction|\n",
      "+--------------------+----------+------------------+\n",
      "|[1990.0,8.7327779...|      4.14| 4.275404785668087|\n",
      "|[1990.0,8.7327779...|      4.15| 4.281389041289152|\n",
      "|[1990.0,8.7327779...|     4.155| 4.283150885828427|\n",
      "|[1990.0,8.7327779...|      4.16| 4.284912758543843|\n",
      "|[1990.0,8.7327779...|      4.17| 4.288436447622377|\n",
      "|[1990.0,8.7327779...|     4.175|4.2901982921616515|\n",
      "|[1990.0,8.7327779...|      4.18| 4.291960136700922|\n",
      "|[1990.0,8.7327779...|     4.195| 4.185718770067066|\n",
      "|[1991.0,8.8812377...|       4.2| 4.318151697879731|\n",
      "|[1991.0,8.8812377...|      4.21| 4.287214625481944|\n",
      "+--------------------+----------+------------------+\n",
      "only showing top 10 rows\n",
      "\n"
     ]
    }
   ],
   "source": [
    "train_results.predictions.show(10)"
   ]
  },
  {
   "cell_type": "code",
   "execution_count": 57,
   "metadata": {},
   "outputs": [
    {
     "name": "stdout",
     "output_type": "stream",
     "text": [
      "+--------------------+----------+------------------+\n",
      "|            features|Crime rate|        prediction|\n",
      "+--------------------+----------+------------------+\n",
      "|[1990.0,8.7327779...|     4.145| 4.239404061459865|\n",
      "|[1990.0,8.7327779...|     4.165|  4.24486823708888|\n",
      "|[1990.0,8.7327779...|     4.185| 4.250332412717924|\n",
      "|[1990.0,8.7327779...|      4.19|4.2516984528466395|\n",
      "|[1991.0,8.8812377...|     4.205| 4.314250133649836|\n",
      "|[1991.0,8.8812377...|     4.225| 4.346167084503904|\n",
      "|[1992.0,9.0611355...|      4.27| 4.277808575239277|\n",
      "|[1992.0,9.0611355...|     4.275|4.2861609362010995|\n",
      "|[1992.0,9.0611355...|     4.305|4.3362751019720065|\n",
      "|[1993.0,9.2426569...|     4.325| 4.269009315998531|\n",
      "+--------------------+----------+------------------+\n",
      "only showing top 10 rows\n",
      "\n"
     ]
    }
   ],
   "source": [
    "correct_model = lr.fit(test_data)\n",
    "test_results = correct_model.evaluate(test_data)\n",
    "test_results.predictions.show(10)"
   ]
  },
  {
   "cell_type": "code",
   "execution_count": null,
   "metadata": {},
   "outputs": [],
   "source": []
  },
  {
   "cell_type": "code",
   "execution_count": null,
   "metadata": {},
   "outputs": [],
   "source": []
  }
 ],
 "metadata": {
  "kernelspec": {
   "display_name": "Python 3",
   "language": "python",
   "name": "python3"
  },
  "language_info": {
   "codemirror_mode": {
    "name": "ipython",
    "version": 3
   },
   "file_extension": ".py",
   "mimetype": "text/x-python",
   "name": "python",
   "nbconvert_exporter": "python",
   "pygments_lexer": "ipython3",
   "version": "3.5.2"
  }
 },
 "nbformat": 4,
 "nbformat_minor": 2
}
